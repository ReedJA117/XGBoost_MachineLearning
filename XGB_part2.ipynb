{
  "nbformat": 4,
  "nbformat_minor": 0,
  "metadata": {
    "colab": {
      "provenance": [],
      "authorship_tag": "ABX9TyNQeb2Xsm0aq5wmTbK9lbOL",
      "include_colab_link": true
    },
    "kernelspec": {
      "name": "python3",
      "display_name": "Python 3"
    },
    "language_info": {
      "name": "python"
    }
  },
  "cells": [
    {
      "cell_type": "markdown",
      "metadata": {
        "id": "view-in-github",
        "colab_type": "text"
      },
      "source": [
        "<a href=\"https://colab.research.google.com/github/ReedJA117/XGBoost_MachineLearning/blob/main/XGB_part2.ipynb\" target=\"_parent\"><img src=\"https://colab.research.google.com/assets/colab-badge.svg\" alt=\"Open In Colab\"/></a>"
      ]
    },
    {
      "cell_type": "code",
      "execution_count": null,
      "metadata": {
        "id": "ZfllceiTIjHA"
      },
      "outputs": [],
      "source": [
        "import os\n",
        "import pandas as pd\n",
        "import numpy as np\n",
        "import math\n",
        "import random\n",
        "import collections\n",
        "import timeit\n",
        "import xgboost as xgb\n",
        "import sklearn.metrics\n",
        "\n",
        "from sklearn.feature_selection import SelectFromModel\n",
        "from sklearn.linear_model import LogisticRegression\n",
        "from sklearn.model_selection import train_test_split\n",
        "from sklearn.metrics import mean_squared_error"
      ]
    },
    {
      "cell_type": "code",
      "source": [
        "train = pd.read_csv('final_train_df.csv')\n",
        "test = pd.read_csv('final_test_df.csv')"
      ],
      "metadata": {
        "id": "_CZ0kYtLIuAw"
      },
      "execution_count": null,
      "outputs": []
    },
    {
      "cell_type": "code",
      "source": [
        "zeroList = [0]*986\n",
        "test['views'] = zeroList\n",
        "test['views'].value_counts()\n"
      ],
      "metadata": {
        "colab": {
          "base_uri": "https://localhost:8080/"
        },
        "id": "PLolXNPUICCH",
        "outputId": "cc8edd6f-2ea7-4f38-890d-93a343e6443e"
      },
      "execution_count": null,
      "outputs": [
        {
          "output_type": "execute_result",
          "data": {
            "text/plain": [
              "0    986\n",
              "Name: views, dtype: int64"
            ]
          },
          "metadata": {},
          "execution_count": 34
        }
      ]
    },
    {
      "cell_type": "code",
      "source": [
        "y_train = train['views']\n",
        "y_test = test['views']\n",
        "X_train = train.loc[:, train.columns != 'comp_id']\n",
        "X_test = test.loc[:, test.columns != 'comp_id']\n",
        "\n",
        "\n",
        "\n"
      ],
      "metadata": {
        "id": "BiVtPUO_KTtR"
      },
      "execution_count": null,
      "outputs": []
    },
    {
      "cell_type": "code",
      "source": [
        "X_train = train.drop(['comp_id','views'], axis = 1).to_numpy()\n",
        "X_test = test.drop(['comp_id','views'], axis = 1).to_numpy()\n",
        "y_train = train.loc[:, 'views'].to_numpy()\n",
        "y_test = test.loc[:, 'views'].to_numpy()\n",
        "\n",
        "\n",
        "print('Training set shape ', X_train.shape)\n",
        "print('Test set shape ', X_test.shape)"
      ],
      "metadata": {
        "colab": {
          "base_uri": "https://localhost:8080/"
        },
        "id": "mbHMZX0Ncjjs",
        "outputId": "ac0a72f7-9db7-446c-d491-ed4c8e6faf4f"
      },
      "execution_count": null,
      "outputs": [
        {
          "output_type": "stream",
          "name": "stdout",
          "text": [
            "Training set shape  (3000, 1388)\n",
            "Test set shape  (986, 1388)\n"
          ]
        }
      ]
    },
    {
      "cell_type": "code",
      "source": [
        "trlabel = y_train\n",
        "telabel = y_test\n",
        "\n",
        "dtrain = xgb.DMatrix(X_train, label=trlabel)\n",
        "dtest  = xgb.DMatrix(X_test, label=telabel)"
      ],
      "metadata": {
        "id": "mEKTdlqEMsJu"
      },
      "execution_count": null,
      "outputs": []
    },
    {
      "cell_type": "code",
      "source": [
        "# Set parameters.\n",
        "param = {'max_depth': 7, \n",
        "         'eta': 0.2,\n",
        "         'objective': 'reg:squarederror',\n",
        "         'nthread': 5,\n",
        "         'eval_metric': 'rmse'\n",
        "        }\n",
        "\n",
        "evallist = [(dtest, 'eval'), (dtrain, 'train')]"
      ],
      "metadata": {
        "id": "R34jywpTMUjx"
      },
      "execution_count": null,
      "outputs": []
    },
    {
      "cell_type": "code",
      "source": [
        "# Train the model.\n",
        "num_round = 70\n",
        "bst = xgb.train(param, dtrain, num_round, evallist)"
      ],
      "metadata": {
        "colab": {
          "base_uri": "https://localhost:8080/"
        },
        "id": "wKmFYCXmNGV-",
        "outputId": "4d44d3c4-27be-43d0-ac42-f2087a037417"
      },
      "execution_count": null,
      "outputs": [
        {
          "output_type": "stream",
          "name": "stdout",
          "text": [
            "[0]\teval-rmse:196.538\ttrain-rmse:1197.78\n",
            "[1]\teval-rmse:309.153\ttrain-rmse:1090.79\n",
            "[2]\teval-rmse:391.747\ttrain-rmse:1012.55\n",
            "[3]\teval-rmse:494.503\ttrain-rmse:947.393\n",
            "[4]\teval-rmse:549.435\ttrain-rmse:883.429\n",
            "[5]\teval-rmse:596.604\ttrain-rmse:833.542\n",
            "[6]\teval-rmse:632.813\ttrain-rmse:793.177\n",
            "[7]\teval-rmse:670.612\ttrain-rmse:770.022\n",
            "[8]\teval-rmse:691.822\ttrain-rmse:736.16\n",
            "[9]\teval-rmse:707.046\ttrain-rmse:707.687\n",
            "[10]\teval-rmse:724.68\ttrain-rmse:677.365\n",
            "[11]\teval-rmse:730.167\ttrain-rmse:630.967\n",
            "[12]\teval-rmse:736.328\ttrain-rmse:616.112\n",
            "[13]\teval-rmse:753.435\ttrain-rmse:593.508\n",
            "[14]\teval-rmse:761.686\ttrain-rmse:562.538\n",
            "[15]\teval-rmse:768.46\ttrain-rmse:551.306\n",
            "[16]\teval-rmse:778.819\ttrain-rmse:519.913\n",
            "[17]\teval-rmse:787.371\ttrain-rmse:502.169\n",
            "[18]\teval-rmse:792.425\ttrain-rmse:477.75\n",
            "[19]\teval-rmse:802.646\ttrain-rmse:462.117\n",
            "[20]\teval-rmse:816.393\ttrain-rmse:446.694\n",
            "[21]\teval-rmse:817.15\ttrain-rmse:410.518\n",
            "[22]\teval-rmse:819.603\ttrain-rmse:387.858\n",
            "[23]\teval-rmse:827.098\ttrain-rmse:375.96\n",
            "[24]\teval-rmse:824.31\ttrain-rmse:358.61\n",
            "[25]\teval-rmse:831.91\ttrain-rmse:350.183\n",
            "[26]\teval-rmse:836.945\ttrain-rmse:337.01\n",
            "[27]\teval-rmse:843.028\ttrain-rmse:327.402\n",
            "[28]\teval-rmse:845.174\ttrain-rmse:318.14\n",
            "[29]\teval-rmse:850.514\ttrain-rmse:305.383\n",
            "[30]\teval-rmse:848.032\ttrain-rmse:293.969\n",
            "[31]\teval-rmse:849.615\ttrain-rmse:287.062\n",
            "[32]\teval-rmse:853.537\ttrain-rmse:277.338\n",
            "[33]\teval-rmse:860.431\ttrain-rmse:260.622\n",
            "[34]\teval-rmse:862.819\ttrain-rmse:255.608\n",
            "[35]\teval-rmse:864.005\ttrain-rmse:242.412\n",
            "[36]\teval-rmse:865.456\ttrain-rmse:236.86\n",
            "[37]\teval-rmse:867.736\ttrain-rmse:227.829\n",
            "[38]\teval-rmse:870.411\ttrain-rmse:213.963\n",
            "[39]\teval-rmse:871.815\ttrain-rmse:200.804\n",
            "[40]\teval-rmse:873.739\ttrain-rmse:189.941\n",
            "[41]\teval-rmse:874.634\ttrain-rmse:183.792\n",
            "[42]\teval-rmse:875.572\ttrain-rmse:174.75\n",
            "[43]\teval-rmse:876.997\ttrain-rmse:168.617\n",
            "[44]\teval-rmse:879.311\ttrain-rmse:158.241\n",
            "[45]\teval-rmse:881.757\ttrain-rmse:149.568\n",
            "[46]\teval-rmse:882.126\ttrain-rmse:146.139\n",
            "[47]\teval-rmse:884.279\ttrain-rmse:140.537\n",
            "[48]\teval-rmse:886.074\ttrain-rmse:135.634\n",
            "[49]\teval-rmse:885.91\ttrain-rmse:129.627\n",
            "[50]\teval-rmse:886.838\ttrain-rmse:123.238\n",
            "[51]\teval-rmse:887.756\ttrain-rmse:120.004\n",
            "[52]\teval-rmse:888.195\ttrain-rmse:117.023\n",
            "[53]\teval-rmse:888.658\ttrain-rmse:112.743\n",
            "[54]\teval-rmse:890.479\ttrain-rmse:109.319\n",
            "[55]\teval-rmse:892.897\ttrain-rmse:104.664\n",
            "[56]\teval-rmse:893.086\ttrain-rmse:99.7399\n",
            "[57]\teval-rmse:893.47\ttrain-rmse:95.7254\n",
            "[58]\teval-rmse:893.449\ttrain-rmse:91.2178\n",
            "[59]\teval-rmse:893.958\ttrain-rmse:86.0644\n",
            "[60]\teval-rmse:895.187\ttrain-rmse:81.4134\n",
            "[61]\teval-rmse:896.197\ttrain-rmse:77.684\n",
            "[62]\teval-rmse:896.468\ttrain-rmse:75.1915\n",
            "[63]\teval-rmse:896.639\ttrain-rmse:73.8802\n",
            "[64]\teval-rmse:897.125\ttrain-rmse:71.0697\n",
            "[65]\teval-rmse:897.633\ttrain-rmse:69.2056\n",
            "[66]\teval-rmse:898.193\ttrain-rmse:67.2634\n",
            "[67]\teval-rmse:898.396\ttrain-rmse:65.6848\n",
            "[68]\teval-rmse:899.098\ttrain-rmse:63.4369\n",
            "[69]\teval-rmse:899.148\ttrain-rmse:61.4927\n"
          ]
        }
      ]
    },
    {
      "cell_type": "code",
      "source": [
        "# Make prediction.\n",
        "ypred = bst.predict(dtrain).round()\n",
        "print(ypred)"
      ],
      "metadata": {
        "colab": {
          "base_uri": "https://localhost:8080/"
        },
        "id": "RS38PLugNcEN",
        "outputId": "4d552c6b-36f2-4bb4-ec94-c46af9d90bd0"
      },
      "execution_count": null,
      "outputs": [
        {
          "output_type": "stream",
          "name": "stdout",
          "text": [
            "[ 274. 1304.  287. ...  165.  150.   35.]\n"
          ]
        }
      ]
    },
    {
      "cell_type": "code",
      "source": [
        "import csv\n",
        "with open('XGB_train_pre.csv','w',newline='') as f:\n",
        "  writer = csv.writer(f)\n",
        "  writer.writerows(map(lambda x: [x], ypred))"
      ],
      "metadata": {
        "id": "vrgphWqCObR_"
      },
      "execution_count": null,
      "outputs": []
    },
    {
      "cell_type": "code",
      "source": [
        "# Make prediction.\n",
        "ypred = bst.predict(dtest).round()\n",
        "\n",
        "# Compute RMSE on test set.\n",
        "mse_xgboost = mean_squared_error(y_test, ypred)\n",
        "rmse_xgboost = math.sqrt(mse_xgboost)\n",
        "\n",
        "print('RMSE with XGBoost', rmse_xgboost)\n",
        "#xgboost.get_params()\n",
        "#print(ypred)"
      ],
      "metadata": {
        "colab": {
          "base_uri": "https://localhost:8080/"
        },
        "id": "555_03WKNUAo",
        "outputId": "10bd87cc-b8c9-434a-8ab0-fc6f8375df70"
      },
      "execution_count": null,
      "outputs": [
        {
          "output_type": "stream",
          "name": "stdout",
          "text": [
            "RMSE with XGBoost 899.1403805497177\n"
          ]
        }
      ]
    },
    {
      "cell_type": "code",
      "source": [
        "with open('XGB_test_pre.csv','w',newline='') as f:\n",
        "  writer = csv.writer(f)\n",
        "  writer.writerows(map(lambda x: [x], ypred))"
      ],
      "metadata": {
        "id": "QUoazh2wQvsI"
      },
      "execution_count": null,
      "outputs": []
    },
    {
      "cell_type": "code",
      "source": [
        "import matplotlib.pyplot as plt"
      ],
      "metadata": {
        "id": "gnxptEHMLCIz"
      },
      "execution_count": null,
      "outputs": []
    },
    {
      "cell_type": "code",
      "source": [
        "allPlt = pd.read_csv('all_preditions.csv')\n",
        "xRange = []\n",
        "xRange.append(0)\n",
        "for x in range(99,3000,100):\n",
        "  xRange.append(x)\n",
        "x = allPlt.loc[:, 'comp_id']\n",
        "y_ActualViews = allPlt.loc[:, 'Actual_views']\n",
        "y_XGBoost =  allPlt.loc[:, 'Just_XGBoost']\n",
        "y_Hybrid =  allPlt.loc[xRange, 'CNN_XGBoost']\n",
        "y_CNN =  allPlt.loc[xRange, 'Just_CNN']"
      ],
      "metadata": {
        "id": "O5_FAG85LNO1"
      },
      "execution_count": null,
      "outputs": []
    },
    {
      "cell_type": "code",
      "source": [
        "#print(x)"
      ],
      "metadata": {
        "id": "lkwi1vi7TMS_"
      },
      "execution_count": null,
      "outputs": []
    },
    {
      "cell_type": "code",
      "source": [
        "plt.scatter(x,y_ActualViews,s=.05)\n",
        "plt.scatter(x,y_XGBoost,s=.05)\n"
      ],
      "metadata": {
        "colab": {
          "base_uri": "https://localhost:8080/",
          "height": 287
        },
        "id": "stJEyl7BUM7J",
        "outputId": "1463833b-5540-4152-f8d5-94dc02db1f7e"
      },
      "execution_count": null,
      "outputs": [
        {
          "output_type": "execute_result",
          "data": {
            "text/plain": [
              "<matplotlib.collections.PathCollection at 0x7f6128fd14d0>"
            ]
          },
          "metadata": {},
          "execution_count": 58
        },
        {
          "output_type": "display_data",
          "data": {
            "text/plain": [
              "<Figure size 432x288 with 1 Axes>"
            ],
            "image/png": "[encoded data removed]"
          },
          "metadata": {
            "needs_background": "light"
          }
        }
      ]
    },
    {
      "cell_type": "code",
      "source": [
        "plt.show()"
      ],
      "metadata": {
        "id": "AgKxst3xJRtk"
      },
      "execution_count": null,
      "outputs": []
    }
  ]
}